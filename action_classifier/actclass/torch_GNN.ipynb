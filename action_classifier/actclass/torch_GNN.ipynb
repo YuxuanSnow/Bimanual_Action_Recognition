{
 "cells": [
  {
   "cell_type": "markdown",
   "source": [
    "### PyTorch Geometric Basics\n",
    "This section will walk you through the basics of PyG. Essentially, it will cover `torch_geometric.data` and\n",
    "`torch_geometric.nn`. You will learn how to pass geometric data into your GNN, and how to design a custom MessagePassing\n",
    "layer, the core of GNN.\n",
    "\n",
    "#### Data\n",
    "The torch_geometric.data module contains a Data class that allows you to create graphs from your data very easily.\n",
    "You only need to specify:\n",
    "- the attributes/features associated with each node\n",
    "- the connectivity/adjacency of each node (edge index)"
   ],
   "metadata": {
    "collapsed": false,
    "pycharm": {
     "name": "#%% md\n"
    }
   }
  },
  {
   "cell_type": "code",
   "execution_count": 23,
   "outputs": [],
   "source": [
    "import torch\n",
    "from torch_geometric.data import Data\n",
    "\n",
    "\n",
    "x = torch.tensor([[2,1], [5,6], [3,7], [12,0]], dtype=torch.float)\n",
    "y = torch.tensor([0, 1, 0, 1], dtype=torch.float)\n",
    "\n",
    "edge_index = torch.tensor([[0, 1, 2, 1, 0, 3],\n",
    "                           [1, 0, 1, 2, 3, 0]], dtype=torch.long)\n",
    "\n",
    "edge_index_ = torch.tensor([[0, 2, 1, 0, 3],\n",
    "                           [3, 1, 0, 1, 2]], dtype=torch.long)\n",
    "\n",
    "edge_attr = torch.tensor([[1,1,0], [1,1,0], [1,1,0], [1,1,0], [1,1,0], [1,1,0]])\n",
    "\n",
    "data = Data(x=x, y=y, edge_index=edge_index, edge_attr=edge_attr)"
   ],
   "metadata": {
    "collapsed": false,
    "pycharm": {
     "name": "#%%\n"
    }
   }
  },
  {
   "cell_type": "code",
   "execution_count": 34,
   "outputs": [
    {
     "data": {
      "text/plain": "3"
     },
     "execution_count": 34,
     "metadata": {},
     "output_type": "execute_result"
    }
   ],
   "source": [
    "data.num_edge_features"
   ],
   "metadata": {
    "collapsed": false,
    "pycharm": {
     "name": "#%%\n"
    }
   }
  },
  {
   "cell_type": "markdown",
   "source": [
    "So there are 4 nodes in the graph, v1 - v4, each of which is associated with a 2-dimensional feature vector, and a label\n",
    " `y` indicating its class. These two can be represented as FloatTensors.\n",
    "\n",
    "The graph connectivity (edge index) should be confined with the COO format, i.e. the first list contains the index of\n",
    "the source nodes, while the index of target nodes is specified in the second list.\n",
    "\n",
    "Note that the order of the edge index is irrelevant to the Data object you create since such information is only for\n",
    "computing the adjacency matrix. Therefore, the above edge_index express the same information as the following one.\n",
    "\n",
    "We use `torch_geometric.data` to put feature `x`, label `y`, and `edge_index` together."
   ],
   "metadata": {
    "collapsed": false,
    "pycharm": {
     "name": "#%% md\n"
    }
   }
  },
  {
   "cell_type": "markdown",
   "source": [
    "In our case, the node should be each hand and object. The feature of the node should be bounding box / extracted features\n",
    "(tbd). The edges between node should be undirected. The features of edge should be distance between node or others (tbd).\n",
    "The label of each node should be: action id for hand and relative action, idle id for other unused object.\n",
    "\n"
   ],
   "metadata": {
    "collapsed": false,
    "pycharm": {
     "name": "#%% md\n"
    }
   }
  }
 ],
 "metadata": {
  "kernelspec": {
   "display_name": "Python 3",
   "language": "python",
   "name": "python3"
  },
  "language_info": {
   "codemirror_mode": {
    "name": "ipython",
    "version": 2
   },
   "file_extension": ".py",
   "mimetype": "text/x-python",
   "name": "python",
   "nbconvert_exporter": "python",
   "pygments_lexer": "ipython2",
   "version": "2.7.6"
  }
 },
 "nbformat": 4,
 "nbformat_minor": 0
}